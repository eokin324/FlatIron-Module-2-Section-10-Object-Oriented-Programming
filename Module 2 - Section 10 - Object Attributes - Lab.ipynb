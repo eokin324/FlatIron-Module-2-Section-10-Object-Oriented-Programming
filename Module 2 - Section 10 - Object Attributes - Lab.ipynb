{
 "cells": [
  {
   "cell_type": "markdown",
   "metadata": {},
   "source": [
    "In the cell below define a Driver class.\n",
    "\n",
    "For this class, create a method called greet_passenger, which returns the string Hello! I'll be your driver today. My name is followed by that driver's first name and last name (i.e. Hello! I'll be your driver today. My name is John Doe). (Be sure to keep in mind that the driver's name will be stored under two seperate attributes: first and last.)"
   ]
  },
  {
   "cell_type": "code",
   "execution_count": 1,
   "metadata": {},
   "outputs": [],
   "source": [
    "class Driver():\n",
    "    def greet_passenger(self):\n",
    "        print(\"Hello! I'll be your driver today. My name is {} {}\".format(self.first, self.last))"
   ]
  },
  {
   "cell_type": "markdown",
   "metadata": {},
   "source": [
    "Great! Now create an instance of your driver class. Then, create the following attributes for your instance:\n",
    "\n",
    "first - the first name of the driver. Set it to Matthew.\n",
    "last - the last name of the driver. Set it to Mitchell.\n",
    "miles_driven - the number of miles driven by the driver. Set it to 100.\n",
    "rating - the drivers rating. Set it to 4.9\n",
    "Finally, use your greet_passenger1 method for your Driver instance object."
   ]
  },
  {
   "cell_type": "code",
   "execution_count": 2,
   "metadata": {},
   "outputs": [
    {
     "name": "stdout",
     "output_type": "stream",
     "text": [
      "Hello! I'll be your driver today. My name is Matthew Mitchell\n"
     ]
    }
   ],
   "source": [
    "driver = Driver()\n",
    "driver.first = \"Matthew\"\n",
    "driver.last = \"Mitchell\"\n",
    "driver.miles_driven = 100\n",
    "driver.rating = 4.9\n",
    "driver.greet_passenger() # Hello! I'll be your driver today. My name is Matthew Mitchell"
   ]
  },
  {
   "cell_type": "markdown",
   "metadata": {},
   "source": [
    "Now, create a passenger class with one method yell_name which prints the passengers first and last name in all caps. (Again first and last will be stored as seperate attributes.)"
   ]
  },
  {
   "cell_type": "code",
   "execution_count": 3,
   "metadata": {},
   "outputs": [],
   "source": [
    "class Passenger():\n",
    "    def yell_name(self):\n",
    "        print(\"{} {}\".format(self.first.upper(), self.last.upper()))"
   ]
  },
  {
   "cell_type": "code",
   "execution_count": 4,
   "metadata": {},
   "outputs": [
    {
     "name": "stdout",
     "output_type": "stream",
     "text": [
      "RON BURGUNDY\n"
     ]
    }
   ],
   "source": [
    "passenger = Passenger()\n",
    "passenger.first = \"Ron\"\n",
    "passenger.last = \"Burgundy\"\n",
    "passenger.yell_name() # \"RON BURGUNDY\""
   ]
  }
 ],
 "metadata": {
  "kernelspec": {
   "display_name": "Python 3",
   "language": "python",
   "name": "python3"
  },
  "language_info": {
   "codemirror_mode": {
    "name": "ipython",
    "version": 3
   },
   "file_extension": ".py",
   "mimetype": "text/x-python",
   "name": "python",
   "nbconvert_exporter": "python",
   "pygments_lexer": "ipython3",
   "version": "3.7.3"
  }
 },
 "nbformat": 4,
 "nbformat_minor": 2
}
