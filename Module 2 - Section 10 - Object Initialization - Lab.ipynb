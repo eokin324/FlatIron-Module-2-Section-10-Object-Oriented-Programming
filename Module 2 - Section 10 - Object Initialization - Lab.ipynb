{
 "cells": [
  {
   "cell_type": "markdown",
   "metadata": {},
   "source": [
    "Start off by defining Driver, similar to as you've done before. This time, define an __init__ method that initializes a driver with the attributes first, last, and occupation for their first name, last name, and occupation. Provide a default argument of \"driver\" for  occupation."
   ]
  },
  {
   "cell_type": "code",
   "execution_count": 1,
   "metadata": {},
   "outputs": [],
   "source": [
    "class Driver():\n",
    "    \n",
    "    def __init__(self, first, last, occupation = \"driver\"):\n",
    "        self.first = first\n",
    "        self.last = last\n",
    "        self.occupation = occupation"
   ]
  },
  {
   "cell_type": "markdown",
   "metadata": {},
   "source": [
    "Now, initialize a driver with the first name \"Dale\", last name \"Earnhardt\"."
   ]
  },
  {
   "cell_type": "code",
   "execution_count": 4,
   "metadata": {},
   "outputs": [
    {
     "name": "stdout",
     "output_type": "stream",
     "text": [
      "Dale\n",
      "Earnhardt\n",
      "driver\n"
     ]
    }
   ],
   "source": [
    "dale_earnhardt = Driver(\"Dale\", \"Earnhardt\") # initialized\n",
    "print(dale_earnhardt.first) # \"Dale\"\n",
    "print(dale_earnhardt.last) # \"Earnhardt\"\n",
    "print(dale_earnhardt.occupation) # \"driver\""
   ]
  },
  {
   "cell_type": "markdown",
   "metadata": {},
   "source": [
    "Next, define the Passenger class. Using the __init__ method, ensure all instances contain the attributes first, last, email, and rides_taken for their first name, last name, email, and number of rides they have taken. Provide the __init__ method with the default argument of 0 for the rides_taken attribute since new passengers should not have taken any rides."
   ]
  },
  {
   "cell_type": "code",
   "execution_count": 5,
   "metadata": {},
   "outputs": [],
   "source": [
    "class Passenger():\n",
    "    \n",
    "    def __init__(self, first, last, email, rides_taken=0):\n",
    "        self.first = first\n",
    "        self.last = last\n",
    "        self.email = email\n",
    "        self.rides_taken = rides_taken"
   ]
  },
  {
   "cell_type": "markdown",
   "metadata": {},
   "source": [
    "Now that you've defined a Passenger class, check it out by initializing a new passenger with the first name \"Jerry\", the last name \"Seinfeld\", and the email \"jerry.seinfeld@mailinator.com\"."
   ]
  },
  {
   "cell_type": "code",
   "execution_count": 6,
   "metadata": {},
   "outputs": [
    {
     "name": "stdout",
     "output_type": "stream",
     "text": [
      "Jerry\n",
      "Seinfeld\n",
      "jerry.seinfeld@mailinator.com\n",
      "0\n"
     ]
    }
   ],
   "source": [
    "jerry = Passenger(\"Jerry\", \"Seinfeld\", \"jerry.seinfeld@mailinator.com\") # initialized\n",
    "print(jerry.first) # \"Jerry\"\n",
    "print(jerry.last) # \"Seinfeld\"\n",
    "print(jerry.email) # \"jerry.seinfeld@mailinator.com\"\n",
    "print(jerry.rides_taken) # 0"
   ]
  }
 ],
 "metadata": {
  "kernelspec": {
   "display_name": "Python 3",
   "language": "python",
   "name": "python3"
  },
  "language_info": {
   "codemirror_mode": {
    "name": "ipython",
    "version": 3
   },
   "file_extension": ".py",
   "mimetype": "text/x-python",
   "name": "python",
   "nbconvert_exporter": "python",
   "pygments_lexer": "ipython3",
   "version": "3.7.3"
  }
 },
 "nbformat": 4,
 "nbformat_minor": 2
}
