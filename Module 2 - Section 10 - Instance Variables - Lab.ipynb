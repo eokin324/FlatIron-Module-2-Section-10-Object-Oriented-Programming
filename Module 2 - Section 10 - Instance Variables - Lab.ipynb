{
 "cells": [
  {
   "cell_type": "markdown",
   "metadata": {},
   "source": [
    "Below, define classes for both a Driver and a Passenger -- for now just define the classes and remember to include the keyword pass so that you'll have valid syntax for our classes."
   ]
  },
  {
   "cell_type": "code",
   "execution_count": 1,
   "metadata": {},
   "outputs": [],
   "source": [
    "# Driver class\n",
    "class Driver(object):\n",
    "    pass"
   ]
  },
  {
   "cell_type": "code",
   "execution_count": 2,
   "metadata": {},
   "outputs": [],
   "source": [
    "# Passenger class\n",
    "class Passenger(object):\n",
    "    pass"
   ]
  },
  {
   "cell_type": "markdown",
   "metadata": {},
   "source": [
    "Next, instantiate a new instance of a passenger and a new instance of a driver. Give the passenger a rating of 4.9 and give the driver a miles_driven attribute of 100,000."
   ]
  },
  {
   "cell_type": "code",
   "execution_count": 3,
   "metadata": {},
   "outputs": [],
   "source": [
    "driver = Driver() \n",
    "driver.miles_driven = 100000\n",
    "passenger = Passenger() \n",
    "passenger.rating = 4.9"
   ]
  },
  {
   "cell_type": "markdown",
   "metadata": {},
   "source": [
    "Your next challenge is to build a function to find a driver with a given name. The function should take two inputs: drivers and search_name. Drivers will be a list of driver objects (instances of the class you defnined above) and search_name will be a string for the driver name you wish to search from. The function should then return the first driver object from drivers whose name is an exact match to the search name. If there is no driver that matches the name searched for, then the function should return `None` and print a string stating \"Sorry we couldn't find a driver with the name, ____! :\\(\" For example, if there were no results for the search name \"Jack\" your function should return None and print:\n",
    "\n",
    "```python\n",
    "\"Sorry we couldn't find a driver with the name, Jack! :(\"\n",
    "```"
   ]
  },
  {
   "cell_type": "code",
   "execution_count": 4,
   "metadata": {},
   "outputs": [],
   "source": [
    "def find_driver_by_name(drivers, name):\n",
    "    for driver in drivers:\n",
    "        if driver.name  == name:\n",
    "            return driver\n",
    "    print(\"Sorry we couldn't find a driver with the name, {}! :(\".format(name))\n",
    "    return None"
   ]
  },
  {
   "cell_type": "markdown",
   "metadata": {},
   "source": [
    "To test your function, here's some arbitrary definitions to create instances of your Driver class. Run the cells below. "
   ]
  },
  {
   "cell_type": "code",
   "execution_count": 5,
   "metadata": {},
   "outputs": [],
   "source": [
    "alex_driver = Driver()\n",
    "alex_driver.name = \"alex\"\n",
    "alex_driver.rating = 9.0\n",
    "michelle_driver = Driver()\n",
    "michelle_driver.name = \"michelle\"\n",
    "michelle_driver.rating = 8.0\n",
    "jake_driver = Driver()\n",
    "jake_driver.name = \"jake\"\n",
    "jake_driver.rating = 9.7\n",
    "ashleigh_driver = Driver()\n",
    "ashleigh_driver.name = \"ashleigh\"\n",
    "ashleigh_driver.rating = 8.75\n",
    "list_of_drivers = [alex_driver, michelle_driver, jake_driver, ashleigh_driver]"
   ]
  },
  {
   "cell_type": "code",
   "execution_count": 6,
   "metadata": {},
   "outputs": [
    {
     "data": {
      "text/plain": [
       "<__main__.Driver at 0x10951d588>"
      ]
     },
     "execution_count": 6,
     "metadata": {},
     "output_type": "execute_result"
    }
   ],
   "source": [
    "output = find_driver_by_name(list_of_drivers, \"jake\")\n",
    "output"
   ]
  },
  {
   "cell_type": "code",
   "execution_count": 13,
   "metadata": {},
   "outputs": [],
   "source": [
    "output = find_driver_by_name(list_of_drivers, \"michelle\")"
   ]
  },
  {
   "cell_type": "code",
   "execution_count": 8,
   "metadata": {},
   "outputs": [
    {
     "name": "stdout",
     "output_type": "stream",
     "text": [
      "Sorry we couldn't find a driver with the name, allison! :(\n"
     ]
    }
   ],
   "source": [
    "output = find_driver_by_name(list_of_drivers, \"allison\")\n",
    "output"
   ]
  },
  {
   "cell_type": "markdown",
   "metadata": {},
   "source": [
    "If you've correctly coded the find driver by name function, then the first two calls should have returned Driver objects, while the third should have printed the appology statement and returned `None`. (You can further inspect the final output to verify this using the type() method which should reveal that the output is indeed a `Nonetype`; a plain call to output as written above return nonething.\n",
    "\n",
    "\n",
    "While perhaps moderately useful, the function as written is rather brittle. Misspelling a driver's name will lead to no results. As such, write a more general method called `name_starts_with()` that will return a list of instance objects that start with a given substring. For example, you could pass the function a substring 'a' to return all drivers whose name begins with a."
   ]
  },
  {
   "cell_type": "code",
   "execution_count": 14,
   "metadata": {},
   "outputs": [],
   "source": [
    "def name_starts_with(drivers, substring):\n",
    "    starts_with_a = []\n",
    "    for driver in drivers:\n",
    "        if substring in driver.name:\n",
    "            starts_with_a.append(driver)\n",
    "    \n",
    "    return starts_with_a"
   ]
  },
  {
   "cell_type": "markdown",
   "metadata": {},
   "source": [
    "Finally, define a method that returns the driver with the highest rating."
   ]
  },
  {
   "cell_type": "code",
   "execution_count": 16,
   "metadata": {},
   "outputs": [],
   "source": [
    "def highest_rated_driver(drivers):\n",
    "    highest_rating = drivers[0].rating\n",
    "    best_driver = drivers[0]\n",
    "    \n",
    "    for driver in drivers:\n",
    "        if driver.rating > highest_rating:\n",
    "            best_driver = driver\n",
    "            highest_rating = driver.rating\n",
    "    \n",
    "    return best_driver"
   ]
  }
 ],
 "metadata": {
  "kernelspec": {
   "display_name": "Python 3",
   "language": "python",
   "name": "python3"
  },
  "language_info": {
   "codemirror_mode": {
    "name": "ipython",
    "version": 3
   },
   "file_extension": ".py",
   "mimetype": "text/x-python",
   "name": "python",
   "nbconvert_exporter": "python",
   "pygments_lexer": "ipython3",
   "version": "3.7.3"
  }
 },
 "nbformat": 4,
 "nbformat_minor": 2
}
